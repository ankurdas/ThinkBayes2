{
 "metadata": {
  "name": "",
  "signature": "sha256:9a82d6c24e034913a05c8b0b4c33459f5eca119f5dff0b71de00e4c3aa1bcb16"
 },
 "nbformat": 3,
 "nbformat_minor": 0,
 "worksheets": [
  {
   "cells": [
    {
     "cell_type": "code",
     "collapsed": false,
     "input": [
      "\"\"\"This file contains code for use with \"Think Bayes\",\n",
      "by Allen B. Downey, available from greenteapress.com\n",
      "\n",
      "Copyright 2014 Allen B. Downey\n",
      "License: GNU GPLv3 http://www.gnu.org/licenses/gpl.html\n",
      "\"\"\"\n",
      "\n",
      "from __future__ import print_function, division\n",
      "\n",
      "import numpy\n",
      "import thinkbayes2\n",
      "import thinkplot\n",
      "\n",
      "\n",
      "class Electorate(thinkbayes2.Suite):\n",
      "    \"\"\"Represents hypotheses about the state of the electorate.\"\"\"\n",
      "\n",
      "    def Likelihood(self, data, hypo):\n",
      "        \"\"\"Computes the likelihood of the data under the hypothesis.\n",
      "\n",
      "        hypo: \n",
      "        data: \n",
      "        \"\"\"\n",
      "        \n",
      "        actual = hypo\n",
      "        mean, std, measurement = data\n",
      "        \n",
      "        error = measurement - actual\n",
      "        \n",
      "        like = thinkbayes2.EvalNormalPdf(error, mean, std)\n",
      "        \n",
      "        return like\n",
      "\n",
      "\n",
      "def main():\n",
      "    hypos = numpy.linspace(0, 100, 101)\n",
      "    suite = Electorate(hypos)\n",
      "\n",
      "    thinkplot.Pdf(suite, label='prior')\n",
      "\n",
      "    data = 1.1, 3.7, 53\n",
      "    suite.Update(data)\n",
      "    suite.Normalize()\n",
      "\n",
      "    thinkplot.Pdf(suite, label='posterior')\n",
      "    \n",
      "    data = -2.3, 4.1, 49\n",
      "    suite.Update(data)\n",
      "    suite.Normalize()\n",
      "\n",
      "    thinkplot.Pdf(suite, label='posterior2')\n",
      "    thinkplot.Show()\n",
      "\n",
      "    print(suite.Std())\n",
      "    print(suite.Mean())\n",
      "    print(suite.ProbLess(50))\n",
      "\n",
      "if __name__ == '__main__':\n",
      "    main()\n"
     ],
     "language": "python",
     "metadata": {},
     "outputs": [
      {
       "metadata": {},
       "output_type": "display_data",
       "png": "[encoded data removed]",
       "text": [
        "<matplotlib.figure.Figure at 0xad660fec>"
       ]
      },
      {
       "output_type": "stream",
       "stream": "stdout",
       "text": [
        "2.74685453493\n",
        "51.6306885246\n",
        "0.217691279025\n"
       ]
      },
      {
       "metadata": {},
       "output_type": "display_data",
       "text": [
        "<matplotlib.figure.Figure at 0xb194eb6c>"
       ]
      }
     ],
     "prompt_number": 17
    },
    {
     "cell_type": "code",
     "collapsed": false,
     "input": [],
     "language": "python",
     "metadata": {},
     "outputs": []
    }
   ],
   "metadata": {}
  }
 ]
}
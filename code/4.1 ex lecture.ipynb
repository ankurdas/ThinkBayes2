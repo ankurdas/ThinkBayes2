{
 "metadata": {
  "name": "",
  "signature": "sha256:e04ebf655a3ad95105cab05573fb87c7323cb32d573b0d411684a70d3b044741"
 },
 "nbformat": 3,
 "nbformat_minor": 0,
 "worksheets": [
  {
   "cells": [
    {
     "cell_type": "code",
     "collapsed": false,
     "input": [
      "from thinkstats2 import Suite\n",
      "import thinkplot\n",
      "\n",
      "\n",
      "class Cookie(Suite):\n",
      "    \"\"\"A map from string bowl ID to probablity.\"\"\"\n",
      "    \n",
      "    y = 0.4\n",
      "    \n",
      "    mixes = {0:dict(h=0, t = 1)}\n",
      "    \n",
      "    flips = 100.0\n",
      "    \n",
      "    for i in range(1,int(flips+1)):\n",
      "        mixes[i]= dict(h=i/flips, t=1-i/flips)\n",
      "\n",
      "    def Likelihood(self, data, hypo):\n",
      "        \"\"\"The likelihood of the data under the hypothesis.\n",
      "\n",
      "        data: string cookie type\n",
      "        hypo: string bowl ID\n",
      "        \"\"\"\n",
      "        mix = self.mixes[hypo]\n",
      "        like = self.y+(1-2*self.y)*mix[data]\n",
      "        return like\n",
      "\n",
      "\n",
      "def main():\n",
      "    hypos = range(0,101)\n",
      "\n",
      "    pmf = Cookie(hypos)\n",
      "\n",
      "    dataset = 'h' * 140 + 't' * 110\n",
      "\n",
      "    for data in dataset:\n",
      "        pmf.Update(data)\n",
      "\n",
      "    thinkplot.Cdf(pmf)\n",
      "    \n",
      "    print(pmf.Mean())\n",
      "    print(pmf.Percentile(5))\n",
      "    print(pmf.Percentile(95))\n",
      "\n",
      "\n",
      "if __name__ == '__main__':\n",
      "    main()\n"
     ],
     "language": "python",
     "metadata": {},
     "outputs": [
      {
       "output_type": "stream",
       "stream": "stdout",
       "text": [
        "Warning: Brewer ran out of colors.\n",
        "76.9583005468"
       ]
      },
      {
       "output_type": "stream",
       "stream": "stdout",
       "text": [
        "\n",
        "53\n",
        "97\n"
       ]
      },
      {
       "metadata": {},
       "output_type": "display_data",
       "png": "[encoded data removed]",
       "text": [
        "<matplotlib.figure.Figure at 0xad7cb6ac>"
       ]
      }
     ],
     "prompt_number": 37
    },
    {
     "cell_type": "code",
     "collapsed": false,
     "input": [],
     "language": "python",
     "metadata": {},
     "outputs": []
    }
   ],
   "metadata": {}
  }
 ]
}
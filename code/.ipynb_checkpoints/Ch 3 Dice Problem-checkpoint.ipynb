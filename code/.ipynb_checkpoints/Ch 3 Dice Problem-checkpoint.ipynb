{
 "metadata": {
  "name": "",
  "signature": "sha256:b2ac09fe319c04c33d215de8690b3b65c4e0d237daeac292f2017e72572acddc"
 },
 "nbformat": 3,
 "nbformat_minor": 0,
 "worksheets": []
}
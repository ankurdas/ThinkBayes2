{
 "metadata": {
  "name": "",
  "signature": "sha256:cd3b2651abd0e508a1d4d41161d4f07de6cadf77b76f8e30c195513be88c7411"
 },
 "nbformat": 3,
 "nbformat_minor": 0,
 "worksheets": [
  {
   "cells": [
    {
     "cell_type": "code",
     "collapsed": false,
     "input": [
      "from thinkstats2 import Suite\n",
      "\n",
      "\n",
      "class Cookie(Suite):\n",
      "    \"\"\"A map from string bowl ID to probablity.\"\"\"\n",
      "    \n",
      "    turts = {0:dict(blue=1, green = 1)}\n",
      "\n",
      "    for i in range(1,maxt):\n",
      "    trains[i] = maxt/i\n",
      "\n",
      "    maxt = 100.0\n",
      "    \n",
      "    for i in range(1:maxt+1):\n",
      "        mixes[i]= dict(blue=i/maxt\n",
      "\n",
      "    mixes = {\n",
      "    \n",
      "        'Turt1':dict(blue=2/3.0, green=1/3.0),\n",
      "        'Turt2':dict(blue=1/3.0, green=2/3.0),\n",
      "        'Turt3':dict(blue=0, green=1),\n",
      "        }\n",
      "\n",
      "    def Likelihood(self, data, hypo):\n",
      "        \"\"\"The likelihood of the data under the hypothesis.\n",
      "\n",
      "        data: string cookie type\n",
      "        hypo: string bowl ID\n",
      "        \"\"\"\n",
      "        mix = self.mixes[hypo]\n",
      "        like = mix[data]\n",
      "        return like\n",
      "\n",
      "\n",
      "def main():\n",
      "    hypos = ['Turt0', 'Turt1','Turt2','Turt3']\n",
      "\n",
      "    pmf = Cookie(hypos)\n",
      "\n",
      "    pmf.Update('green')\n",
      "\n",
      "    for hypo, prob in pmf.Items():\n",
      "        print(hypo, prob)\n",
      "\n",
      "\n",
      "if __name__ == '__main__':\n",
      "    main()\n"
     ],
     "language": "python",
     "metadata": {},
     "outputs": [
      {
       "output_type": "stream",
       "stream": "stdout",
       "text": [
        "('Turt0', 0.0)\n",
        "('Turt1', 0.16666666666666666)\n",
        "('Turt2', 0.3333333333333333)\n",
        "('Turt3', 0.5)\n"
       ]
      }
     ],
     "prompt_number": 3
    },
    {
     "cell_type": "code",
     "collapsed": false,
     "input": [],
     "language": "python",
     "metadata": {},
     "outputs": []
    }
   ],
   "metadata": {}
  }
 ]
}
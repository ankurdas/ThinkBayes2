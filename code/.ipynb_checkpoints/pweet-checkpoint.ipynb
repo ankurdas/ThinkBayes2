{
 "metadata": {
  "name": "",
  "signature": "sha256:6ea7cc46d6ab9194397c1800e591ecbd7f27adf5690f9c1efd7889b583a655b9"
 },
 "nbformat": 3,
 "nbformat_minor": 0,
 "worksheets": [
  {
   "cells": [
    {
     "cell_type": "code",
     "collapsed": false,
     "input": [],
     "language": "python",
     "metadata": {},
     "outputs": []
    },
    {
     "cell_type": "raw",
     "metadata": {},
     "source": []
    }
   ],
   "metadata": {}
  }
 ]
}
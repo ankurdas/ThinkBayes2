{
 "metadata": {
  "name": "",
  "signature": "sha256:bdb23f61e95727df5f0365ff27256ad3495325b382533b431e44df1727d60b1c"
 },
 "nbformat": 3,
 "nbformat_minor": 0,
 "worksheets": [
  {
   "cells": [
    {
     "cell_type": "code",
     "collapsed": false,
     "input": [
      "from thinkstats2 import Suite\n",
      "\n",
      "\n",
      "class Cancer(Suite):\n",
      "    \"\"\"A map from string bowl ID to probablity.\"\"\"\n",
      "\n",
      "    mixes = {\n",
      "        'Bowl 1':dict(pos=.8, neg=1-.8),\n",
      "        'Bowl 2':dict(pos=.096, neg=1-.096),\n",
      "        }\n",
      "\n",
      "    def Likelihood(self, data, hypo):\n",
      "        \"\"\"The likelihood of the data under the hypothesis.\n",
      "\n",
      "        data: string cookie type\n",
      "        hypo: string bowl ID\n",
      "        \"\"\"\n",
      "        mix = self.mixes[hypo]\n",
      "        like = mix[data]\n",
      "        return like\n",
      "\n",
      "\n",
      "def main():\n",
      "    hypos = ['Bowl 1', 'Bowl 2']\n",
      "\n",
      "    pmf = Cancer(hypos)\n",
      "    \n",
      "    pmf.Set('Bowl 1',.1)\n",
      "    pmf.Set('Bowl 2',.9)\n",
      "    \n",
      "    for hypo, prob in pmf.Items():\n",
      "        print(hypo, prob)\n",
      "\n",
      "    pmf.Update('pos')\n",
      "\n",
      "    for hypo, prob in pmf.Items():\n",
      "        print(hypo, prob)\n",
      "\n",
      "\n",
      "if __name__ == '__main__':\n",
      "    main()\n"
     ],
     "language": "python",
     "metadata": {},
     "outputs": [
      {
       "output_type": "stream",
       "stream": "stdout",
       "text": [
        "('Bowl 2', 0.5)\n",
        "('Bowl 1', 0.5)\n",
        "('Bowl 2', 0.10714285714285715)\n",
        "('Bowl 1', 0.8928571428571429)\n"
       ]
      }
     ],
     "prompt_number": 5
    },
    {
     "cell_type": "code",
     "collapsed": false,
     "input": [],
     "language": "python",
     "metadata": {},
     "outputs": []
    }
   ],
   "metadata": {}
  }
 ]
}
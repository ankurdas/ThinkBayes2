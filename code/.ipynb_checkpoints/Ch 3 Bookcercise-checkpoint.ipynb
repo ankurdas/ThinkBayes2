{
 "metadata": {
  "name": "",
  "signature": "sha256:be693432b689f74f8aea7f23c498cfd26bdfc46724f11f78879fd1d9eb0d5303"
 },
 "nbformat": 3,
 "nbformat_minor": 0,
 "worksheets": [
  {
   "cells": [
    {
     "cell_type": "code",
     "collapsed": false,
     "input": [
      "import thinkplot\n",
      "from dice import Dice\n",
      "\n",
      "tempdict = {4:2, 6:6, 8:3, 10:2, 12:4, 20:4}\n",
      "tempdict.append()\n",
      "\n",
      "\n",
      "suite = Dice({4:2, 6:6, 8:3, 10:2, 12:4, 20:4})\n",
      "    \n",
      "suite.Update(6)\n",
      "suite.Update(6)\n",
      "suite.Update(5)\n",
      "suite.Update(8)\n",
      "thinkplot.Hist(suite)\n",
      "\n",
      "\n",
      "def main():\n",
      "    ComparePriors()\n",
      "\n",
      "    dataset = [30, 60, 90]\n",
      "\n",
      "    thinkplot.Clf()\n",
      "    thinkplot.PrePlot(num=3)\n",
      "\n",
      "    for high in [500, 1000, 2000]:\n",
      "        suite = MakePosterior(high, dataset, Train2)\n",
      "        print(high, suite.Mean())\n",
      "\n",
      "    thinkplot.Save(root='train3',\n",
      "                   xlabel='Number of trains',\n",
      "                   ylabel='Probability')\n",
      "\n",
      "    interval = suite.Percentile(5), suite.Percentile(95)\n",
      "    print(interval)\n",
      "\n",
      "    cdf = thinkbayes2.Cdf(suite)\n",
      "    interval = cdf.Percentile(5), cdf.Percentile(95)\n",
      "    print(interval)\n"
     ],
     "language": "python",
     "metadata": {},
     "outputs": [
      {
       "output_type": "stream",
       "stream": "stdout",
       "text": [
        "Writing train4.pdf\n",
        "Writing"
       ]
      },
      {
       "output_type": "stream",
       "stream": "stdout",
       "text": [
        " train4.eps\n",
        "500"
       ]
      },
      {
       "output_type": "stream",
       "stream": "stdout",
       "text": [
        " 130.708469863\n",
        "1000 133.275231375\n",
        "2000 133.997463081\n",
        "Writing"
       ]
      },
      {
       "output_type": "stream",
       "stream": "stdout",
       "text": [
        " train3.pdf\n",
        "Writing"
       ]
      },
      {
       "output_type": "stream",
       "stream": "stdout",
       "text": [
        " train3.eps\n",
        "(91, 243)"
       ]
      },
      {
       "output_type": "stream",
       "stream": "stdout",
       "text": [
        "\n",
        "(91, 243)\n"
       ]
      },
      {
       "metadata": {},
       "output_type": "display_data",
       "text": [
        "<matplotlib.figure.Figure at 0xad6c4eac>"
       ]
      }
     ],
     "prompt_number": 4
    },
    {
     "cell_type": "code",
     "collapsed": false,
     "input": [],
     "language": "python",
     "metadata": {},
     "outputs": []
    }
   ],
   "metadata": {}
  }
 ]
}
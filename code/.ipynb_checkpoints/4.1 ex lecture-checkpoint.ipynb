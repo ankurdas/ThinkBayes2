{
 "metadata": {
  "name": "",
  "signature": "sha256:769c032527ec101db7308697dc0876657c7832c2a17d829044f446ef19e41131"
 },
 "nbformat": 3,
 "nbformat_minor": 0,
 "worksheets": [
  {
   "cells": [
    {
     "cell_type": "code",
     "collapsed": false,
     "input": [
      "from thinkstats2 import Suite\n",
      "import thinkplot\n",
      "\n",
      "\n",
      "class Cookie(Suite):\n",
      "    \"\"\"A map from string bowl ID to probablity.\"\"\"\n",
      "    \n",
      "    y = .1\n",
      "    \n",
      "    mixes = {0:dict(h=1, t = 0)}\n",
      "    \n",
      "    flips = 100.0\n",
      "    \n",
      "    for i in range(1,int(flips+1)):\n",
      "        mixes[i]= dict(h=i/maxt, t=1-i/maxt)\n",
      "\n",
      "    def Likelihood(self, data, hypo):\n",
      "        \"\"\"The likelihood of the data under the hypothesis.\n",
      "\n",
      "        data: string cookie type\n",
      "        hypo: string bowl ID\n",
      "        \"\"\"\n",
      "        mix = self.mixes[hypo]\n",
      "        like = mix[data]\n",
      "        return like\n",
      "    \n",
      "    def Update(self, data):\n",
      "        \"\"\"Updates each hypothesis based on the data.\n",
      "\n",
      "        data: any representation of the data\n",
      "\n",
      "        returns: the normalizing constant\n",
      "        \"\"\"\n",
      "        for hypo in self.Values():\n",
      "            like = self.Likelihood(data, hypo)\n",
      "            self.Mult(hypo, like)\n",
      "        return self.Normalize()\n",
      "\n",
      "\n",
      "def main():\n",
      "    hypos = range(0,101)\n",
      "\n",
      "    pmf = Cookie(hypos)\n",
      "\n",
      "    pmf.Update('green')\n",
      "    pmf.Update('green')\n",
      "    pmf.Update('green')\n",
      "    pmf.Update('blue')\n",
      "\n",
      "    thinkplot.Cdf(pmf)\n",
      "\n",
      "\n",
      "if __name__ == '__main__':\n",
      "    main()\n"
     ],
     "language": "python",
     "metadata": {},
     "outputs": [
      {
       "metadata": {},
       "output_type": "display_data",
       "png": "[encoded data removed]",
       "text": [
        "<matplotlib.figure.Figure at 0xad7cb92c>"
       ]
      }
     ],
     "prompt_number": 1
    },
    {
     "cell_type": "code",
     "collapsed": false,
     "input": [],
     "language": "python",
     "metadata": {},
     "outputs": []
    }
   ],
   "metadata": {}
  }
 ]
}
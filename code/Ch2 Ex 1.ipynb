{
 "metadata": {
  "name": "",
  "signature": "sha256:e745abad09c14b2505de4fd2fdd9b0ed9c8edfeb1fd9372c21e4586f3dea1ed4"
 },
 "nbformat": 3,
 "nbformat_minor": 0,
 "worksheets": [
  {
   "cells": [
    {
     "cell_type": "code",
     "collapsed": false,
     "input": [
      "from thinkstats2 import Suite\n",
      "\n",
      "\n",
      "class Cancer(Suite):\n",
      "    \"\"\"A map from string bowl ID to probablity.\"\"\"\n",
      "\n",
      "    mixes = {\n",
      "        'Bowl 1':dict(pos=.8, neg=1-.8),\n",
      "        'Bowl 2':dict(pos=1/1000000.0, neg=1-1/1000000.0),\n",
      "        }\n",
      "\n",
      "    def Likelihood(self, data, hypo):\n",
      "        \"\"\"The likelihood of the data under the hypothesis.\n",
      "\n",
      "        data: string cookie type\n",
      "        hypo: string bowl ID\n",
      "        \"\"\"\n",
      "        mix = self.mixes[hypo]\n",
      "        like = mix[data]\n",
      "        return like\n",
      "\n",
      "\n",
      "def main():\n",
      "    hypos = ['Bowl 1', 'Bowl 2']\n",
      "\n",
      "    pmf = Cancer(hypos)\n",
      "    \n",
      "    pmf.Set('Bowl 1',.01)\n",
      "    pmf.Set('Bowl 2',.99)\n",
      "    \n",
      "    for hypo, prob in pmf.Items():\n",
      "        print(hypo, prob)\n",
      "\n",
      "    pmf.Update('pos')\n",
      "\n",
      "    for hypo, prob in pmf.Items():\n",
      "        print(hypo, prob)\n",
      "\n",
      "\n",
      "if __name__ == '__main__':\n",
      "    main()\n"
     ],
     "language": "python",
     "metadata": {},
     "outputs": [
      {
       "output_type": "stream",
       "stream": "stdout",
       "text": [
        "('Bowl 2', 0.99)\n",
        "('Bowl 1', 0.01)\n",
        "('Bowl 2', 0.00012373468783238075)\n",
        "('Bowl 1', 0.9998762653121677)\n"
       ]
      }
     ],
     "prompt_number": 12
    },
    {
     "cell_type": "code",
     "collapsed": false,
     "input": [],
     "language": "python",
     "metadata": {},
     "outputs": []
    }
   ],
   "metadata": {}
  }
 ]
}
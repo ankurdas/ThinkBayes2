{
 "metadata": {
  "name": "",
  "signature": "sha256:5db4af6a49fc09f53962818b2e7afcb18a02b33669c83107918ae17e07d666c9"
 },
 "nbformat": 3,
 "nbformat_minor": 0,
 "worksheets": [
  {
   "cells": [
    {
     "cell_type": "code",
     "collapsed": false,
     "input": [
      "import thinkplot\n",
      "from dice import Dice\n",
      "\n",
      "suite = Dice({4:2, 6:6, 8:3, 10:2, 12:4, 20:4})\n",
      "    \n",
      "suite.Update(6)\n",
      "suite.Update(6)\n",
      "suite.Update(5)\n",
      "suite.Update(8)\n",
      "thinkplot.Hist(suite)"
     ],
     "language": "python",
     "metadata": {},
     "outputs": [
      {
       "output_type": "stream",
       "stream": "stdout",
       "text": [
        "Warning: Brewer ran out of colors.\n"
       ]
      },
      {
       "metadata": {},
       "output_type": "display_data",
       "png": "[encoded data removed]",
       "text": [
        "<matplotlib.figure.Figure at 0xb108544c>"
       ]
      }
     ],
     "prompt_number": 26
    },
    {
     "cell_type": "code",
     "collapsed": false,
     "input": [],
     "language": "python",
     "metadata": {},
     "outputs": []
    }
   ],
   "metadata": {}
  }
 ]
}
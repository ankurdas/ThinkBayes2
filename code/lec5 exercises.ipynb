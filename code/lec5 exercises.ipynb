{
 "metadata": {
  "name": "",
  "signature": "sha256:a17e54a227c22903ec57839868f8b7594fd7a660684b6de3c77e70fadb2b840e"
 },
 "nbformat": 3,
 "nbformat_minor": 0,
 "worksheets": [
  {
   "cells": [
    {
     "cell_type": "code",
     "collapsed": false,
     "input": [
      "import thinkplot\n",
      "import thinkstats2\n",
      "\n",
      "pmfX = thinkstats2.NormalPdf()\n",
      "n = 1000\n",
      "xs = pmfX.MakeCdf().Sample(n)"
     ],
     "language": "python",
     "metadata": {},
     "outputs": [
      {
       "ename": "AttributeError",
       "evalue": "'NormalPdf' object has no attribute 'MakeCdf'",
       "output_type": "pyerr",
       "traceback": [
        "\u001b[1;31m---------------------------------------------------------------------------\u001b[0m\n\u001b[1;31mAttributeError\u001b[0m                            Traceback (most recent call last)",
        "\u001b[1;32m<ipython-input-5-8082b4b3e230>\u001b[0m in \u001b[0;36m<module>\u001b[1;34m()\u001b[0m\n\u001b[0;32m      4\u001b[0m \u001b[0mpmfX\u001b[0m \u001b[1;33m=\u001b[0m \u001b[0mthinkstats2\u001b[0m\u001b[1;33m.\u001b[0m\u001b[0mNormalPdf\u001b[0m\u001b[1;33m(\u001b[0m\u001b[1;33m)\u001b[0m\u001b[1;33m\u001b[0m\u001b[0m\n\u001b[0;32m      5\u001b[0m \u001b[0mn\u001b[0m \u001b[1;33m=\u001b[0m \u001b[1;36m1000\u001b[0m\u001b[1;33m\u001b[0m\u001b[0m\n\u001b[1;32m----> 6\u001b[1;33m \u001b[0mxs\u001b[0m \u001b[1;33m=\u001b[0m \u001b[0mpmfX\u001b[0m\u001b[1;33m.\u001b[0m\u001b[0mMakeCdf\u001b[0m\u001b[1;33m(\u001b[0m\u001b[1;33m)\u001b[0m\u001b[1;33m.\u001b[0m\u001b[0mSample\u001b[0m\u001b[1;33m(\u001b[0m\u001b[0mn\u001b[0m\u001b[1;33m)\u001b[0m\u001b[1;33m\u001b[0m\u001b[0m\n\u001b[0m",
        "\u001b[1;31mAttributeError\u001b[0m: 'NormalPdf' object has no attribute 'MakeCdf'"
       ]
      }
     ],
     "prompt_number": 5
    },
    {
     "cell_type": "code",
     "collapsed": false,
     "input": [
      "def ProdPmf(self, other)\n",
      "    pmf=Pmf()\n",
      "    for v1, p1 in self.Items():\n",
      "        others v2, p2 in self.Items():\n",
      "            pmf.Incr(v1 * v2, p1 * p2)\n",
      "    return pmf\n",
      "\n"
     ],
     "language": "python",
     "metadata": {},
     "outputs": [
      {
       "ename": "SyntaxError",
       "evalue": "invalid syntax (<ipython-input-6-f858ee4ffaa1>, line 1)",
       "output_type": "pyerr",
       "traceback": [
        "\u001b[1;36m  File \u001b[1;32m\"<ipython-input-6-f858ee4ffaa1>\"\u001b[1;36m, line \u001b[1;32m1\u001b[0m\n\u001b[1;33m    def ProdPmf(self, other)\u001b[0m\n\u001b[1;37m                            ^\u001b[0m\n\u001b[1;31mSyntaxError\u001b[0m\u001b[1;31m:\u001b[0m invalid syntax\n"
       ]
      }
     ],
     "prompt_number": 6
    },
    {
     "cell_type": "code",
     "collapsed": false,
     "input": [
      "import thinkbayes2 \n",
      "\n",
      "def PmfProbSumGreater(pmf1, pmf2, pmf3):\n",
      "    pmf=pmf1+pmf2\n",
      "    \n",
      "    pmffinal = pmf-pmf3\n",
      "    \n",
      "    probs = pmffinal.ProbGreater(0)\n",
      "    \n",
      "    return probs\n",
      "\n",
      "\n",
      "pmfX = thinkbayes2.NormalPdf(163,7.3).MakePmf()\n",
      "pmfY = thinkbayes2.NormalPdf(178,7.7).MakePmf()\n",
      "\n",
      "print(PmfProbSumGreater(pmfX,pmfY,pmfX+pmfY))"
     ],
     "language": "python",
     "metadata": {},
     "outputs": [
      {
       "ename": "KeyboardInterrupt",
       "evalue": "",
       "output_type": "pyerr",
       "traceback": [
        "\u001b[1;31m---------------------------------------------------------------------------\u001b[0m\n\u001b[1;31mKeyboardInterrupt\u001b[0m                         Traceback (most recent call last)",
        "\u001b[1;32m<ipython-input-14-805f60112c5e>\u001b[0m in \u001b[0;36m<module>\u001b[1;34m()\u001b[0m\n\u001b[0;32m     14\u001b[0m \u001b[0mpmfY\u001b[0m \u001b[1;33m=\u001b[0m \u001b[0mthinkbayes2\u001b[0m\u001b[1;33m.\u001b[0m\u001b[0mNormalPdf\u001b[0m\u001b[1;33m(\u001b[0m\u001b[1;36m178\u001b[0m\u001b[1;33m,\u001b[0m\u001b[1;36m7.7\u001b[0m\u001b[1;33m)\u001b[0m\u001b[1;33m.\u001b[0m\u001b[0mMakePmf\u001b[0m\u001b[1;33m(\u001b[0m\u001b[1;33m)\u001b[0m\u001b[1;33m\u001b[0m\u001b[0m\n\u001b[0;32m     15\u001b[0m \u001b[1;33m\u001b[0m\u001b[0m\n\u001b[1;32m---> 16\u001b[1;33m \u001b[1;32mprint\u001b[0m\u001b[1;33m(\u001b[0m\u001b[0mPmfProbSumGreater\u001b[0m\u001b[1;33m(\u001b[0m\u001b[0mpmfX\u001b[0m\u001b[1;33m,\u001b[0m\u001b[0mpmfY\u001b[0m\u001b[1;33m,\u001b[0m\u001b[0mpmfX\u001b[0m\u001b[1;33m+\u001b[0m\u001b[0mpmfY\u001b[0m\u001b[1;33m)\u001b[0m\u001b[1;33m)\u001b[0m\u001b[1;33m\u001b[0m\u001b[0m\n\u001b[0m",
        "\u001b[1;32m<ipython-input-14-805f60112c5e>\u001b[0m in \u001b[0;36mPmfProbSumGreater\u001b[1;34m(pmf1, pmf2, pmf3)\u001b[0m\n\u001b[0;32m      4\u001b[0m     \u001b[0mpmf\u001b[0m\u001b[1;33m=\u001b[0m\u001b[0mpmf1\u001b[0m\u001b[1;33m+\u001b[0m\u001b[0mpmf2\u001b[0m\u001b[1;33m\u001b[0m\u001b[0m\n\u001b[0;32m      5\u001b[0m \u001b[1;33m\u001b[0m\u001b[0m\n\u001b[1;32m----> 6\u001b[1;33m     \u001b[0mpmffinal\u001b[0m \u001b[1;33m=\u001b[0m \u001b[0mpmf\u001b[0m\u001b[1;33m-\u001b[0m\u001b[0mpmf3\u001b[0m\u001b[1;33m\u001b[0m\u001b[0m\n\u001b[0m\u001b[0;32m      7\u001b[0m \u001b[1;33m\u001b[0m\u001b[0m\n\u001b[0;32m      8\u001b[0m     \u001b[0mprobs\u001b[0m \u001b[1;33m=\u001b[0m \u001b[0mpmffinal\u001b[0m\u001b[1;33m.\u001b[0m\u001b[0mProbGreater\u001b[0m\u001b[1;33m(\u001b[0m\u001b[1;36m0\u001b[0m\u001b[1;33m)\u001b[0m\u001b[1;33m\u001b[0m\u001b[0m\n",
        "\u001b[1;32m/home/ankur/ThinkBayes2/code/thinkbayes2.pyc\u001b[0m in \u001b[0;36m__sub__\u001b[1;34m(self, other)\u001b[0m\n\u001b[0;32m    635\u001b[0m         \"\"\"\n\u001b[0;32m    636\u001b[0m         \u001b[1;32mtry\u001b[0m\u001b[1;33m:\u001b[0m\u001b[1;33m\u001b[0m\u001b[0m\n\u001b[1;32m--> 637\u001b[1;33m             \u001b[1;32mreturn\u001b[0m \u001b[0mself\u001b[0m\u001b[1;33m.\u001b[0m\u001b[0mSubPmf\u001b[0m\u001b[1;33m(\u001b[0m\u001b[0mother\u001b[0m\u001b[1;33m)\u001b[0m\u001b[1;33m\u001b[0m\u001b[0m\n\u001b[0m\u001b[0;32m    638\u001b[0m         \u001b[1;32mexcept\u001b[0m \u001b[0mAttributeError\u001b[0m\u001b[1;33m:\u001b[0m\u001b[1;33m\u001b[0m\u001b[0m\n\u001b[0;32m    639\u001b[0m             \u001b[1;32mreturn\u001b[0m \u001b[0mself\u001b[0m\u001b[1;33m.\u001b[0m\u001b[0mAddConstant\u001b[0m\u001b[1;33m(\u001b[0m\u001b[1;33m-\u001b[0m\u001b[0mother\u001b[0m\u001b[1;33m)\u001b[0m\u001b[1;33m\u001b[0m\u001b[0m\n",
        "\u001b[1;32m/home/ankur/ThinkBayes2/code/thinkbayes2.pyc\u001b[0m in \u001b[0;36mSubPmf\u001b[1;34m(self, other)\u001b[0m\n\u001b[0;32m    649\u001b[0m         \u001b[1;32mfor\u001b[0m \u001b[0mv1\u001b[0m\u001b[1;33m,\u001b[0m \u001b[0mp1\u001b[0m \u001b[1;32min\u001b[0m \u001b[0mself\u001b[0m\u001b[1;33m.\u001b[0m\u001b[0mItems\u001b[0m\u001b[1;33m(\u001b[0m\u001b[1;33m)\u001b[0m\u001b[1;33m:\u001b[0m\u001b[1;33m\u001b[0m\u001b[0m\n\u001b[0;32m    650\u001b[0m             \u001b[1;32mfor\u001b[0m \u001b[0mv2\u001b[0m\u001b[1;33m,\u001b[0m \u001b[0mp2\u001b[0m \u001b[1;32min\u001b[0m \u001b[0mother\u001b[0m\u001b[1;33m.\u001b[0m\u001b[0mItems\u001b[0m\u001b[1;33m(\u001b[0m\u001b[1;33m)\u001b[0m\u001b[1;33m:\u001b[0m\u001b[1;33m\u001b[0m\u001b[0m\n\u001b[1;32m--> 651\u001b[1;33m                 \u001b[0mpmf\u001b[0m\u001b[1;33m.\u001b[0m\u001b[0mIncr\u001b[0m\u001b[1;33m(\u001b[0m\u001b[0mv1\u001b[0m \u001b[1;33m-\u001b[0m \u001b[0mv2\u001b[0m\u001b[1;33m,\u001b[0m \u001b[0mp1\u001b[0m \u001b[1;33m*\u001b[0m \u001b[0mp2\u001b[0m\u001b[1;33m)\u001b[0m\u001b[1;33m\u001b[0m\u001b[0m\n\u001b[0m\u001b[0;32m    652\u001b[0m         \u001b[1;32mreturn\u001b[0m \u001b[0mpmf\u001b[0m\u001b[1;33m\u001b[0m\u001b[0m\n\u001b[0;32m    653\u001b[0m \u001b[1;33m\u001b[0m\u001b[0m\n",
        "\u001b[1;31mKeyboardInterrupt\u001b[0m: "
       ]
      }
     ],
     "prompt_number": 14
    },
    {
     "cell_type": "code",
     "collapsed": false,
     "input": [],
     "language": "python",
     "metadata": {},
     "outputs": []
    }
   ],
   "metadata": {}
  }
 ]
}
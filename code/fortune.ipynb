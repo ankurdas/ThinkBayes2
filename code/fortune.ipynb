{
 "metadata": {
  "name": "",
  "signature": "sha256:50fd209a1258cecd142ad1a4ada842b2ff5d326dc84ccda423916df9bf3104c8"
 },
 "nbformat": 3,
 "nbformat_minor": 0,
 "worksheets": [
  {
   "cells": [
    {
     "cell_type": "code",
     "collapsed": false,
     "input": [
      "\"\"\"This file contains code for use with \"Think Bayes\",\n",
      "by Allen B. Downey, available from greenteapress.com\n",
      "\n",
      "\n",
      "Copyright 2014 A\n",
      "llen B. Downey\n",
      "License: GNU GPLv3 http://www.gnu.org/licenses/gpl.html \"\"\"\n",
      "\n",
      "from __future__ import print_function, division\n",
      "\n",
      "import numpy\n",
      "import thinkbayes2\n",
      "import thinkplot\n",
      "import math\n",
      "\n",
      "class Electorate(thinkbayes2.Suite):\n",
      "    \"\"\"Represents hypotheses about the state of the electorate.\"\"\"\n",
      "\n",
      "    def Likelihood(self, data, hypo):\n",
      "        \"\"\"Computes the likelihood of the data under the hypothesis.\n",
      "        hypo:\n",
      "        data:\n",
      "        \"\"\"\n",
      "        \n",
      "        Nhypo = hypo\n",
      "        common, friends = data\n",
      "        p = 1.0/Nhypo\n",
      "    \n",
      "        like = thinkbayes2.EvalBinomialPmf(common, friends, p)\n",
      "        if math.isnan(like):\n",
      "            like = 0.0\n",
      "        return like\n",
      "\n",
      "\n",
      "def main():\n",
      "    hypos = numpy.linspace(0, 500, 501)\n",
      "    suite = Electorate(hypos)\n",
      "\n",
      "    thinkplot.Pdf(suite, label='prior')\n",
      "\n",
      "    data = 2, 10\n",
      "    suite.Update(data)\n",
      "\n",
      "    thinkplot.Pdf(suite, label='posterior')\n",
      "    \n",
      "    thinkplot.Show()\n",
      "    \n",
      "    print(suite.Mean())\n",
      "    print(suite.Percentile(5),suite.Percentile(95))\n",
      "    \n",
      "if __name__ == '__main__':\n",
      "    main()"
     ],
     "language": "python",
     "metadata": {},
     "outputs": [
      {
       "metadata": {},
       "output_type": "display_data",
       "png": "[encoded data removed]",
       "text": [
        "<matplotlib.figure.Figure at 0xad6ea1ec>"
       ]
      },
      {
       "output_type": "stream",
       "stream": "stdout",
       "text": [
        "32.1938188051\n",
        "4.0 130.0\n"
       ]
      },
      {
       "metadata": {},
       "output_type": "display_data",
       "text": [
        "<matplotlib.figure.Figure at 0xad5f2bec>"
       ]
      }
     ],
     "prompt_number": 2
    },
    {
     "cell_type": "code",
     "collapsed": false,
     "input": [],
     "language": "python",
     "metadata": {},
     "outputs": []
    }
   ],
   "metadata": {}
  }
 ]
}
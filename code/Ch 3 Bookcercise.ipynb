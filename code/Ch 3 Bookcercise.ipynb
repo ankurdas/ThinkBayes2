{
 "metadata": {
  "name": "",
  "signature": "sha256:78f7fda0d3e19b72ea32cf6be969dd3c14052a7522ed0234f43b3baf09f0d8bf"
 },
 "nbformat": 3,
 "nbformat_minor": 0,
 "worksheets": [
  {
   "cells": [
    {
     "cell_type": "code",
     "collapsed": false,
     "input": [
      "import thinkplot\n",
      "from dice import Dice\n",
      "\n",
      "maxt = 2000\n",
      "\n",
      "trains = {1:1}\n",
      "trains.clear()\n",
      "\n",
      "for i in range(1,maxt):\n",
      "    trains[i] = maxt/i\n",
      "\n",
      "suite = Dice(trains)\n",
      "\n",
      "for i in range(1,maxt):\n",
      "    suite.Set(i, i**(-1))\n",
      "suite.Normalize()\n",
      "\n",
      "suite.Update(60)\n",
      "\n",
      "thinkplot.Cdf(suite)\n",
      "interval = suite.Percentile(5), suite.Percentile(95)\n",
      "print(interval)\n",
      "print(suite.Mean())"
     ],
     "language": "python",
     "metadata": {},
     "outputs": [
      {
       "output_type": "stream",
       "stream": "stdout",
       "text": [
        "(63, 760)\n",
        "215.541567341\n"
       ]
      },
      {
       "metadata": {},
       "output_type": "display_data",
       "png": "[encoded data removed]",
       "text": [
        "<matplotlib.figure.Figure at 0xb01fe06c>"
       ]
      }
     ],
     "prompt_number": 2
    },
    {
     "cell_type": "code",
     "collapsed": false,
     "input": [
      "\n"
     ],
     "language": "python",
     "metadata": {},
     "outputs": [
      {
       "ename": "AttributeError",
       "evalue": "'Dice' object has no attribute 'hypos'",
       "output_type": "pyerr",
       "traceback": [
        "\u001b[1;31m---------------------------------------------------------------------------\u001b[0m\n\u001b[1;31mAttributeError\u001b[0m                            Traceback (most recent call last)",
        "\u001b[1;32m<ipython-input-22-443530c6d6b6>\u001b[0m in \u001b[0;36m<module>\u001b[1;34m()\u001b[0m\n\u001b[1;32m----> 1\u001b[1;33m \u001b[0msuite\u001b[0m\u001b[1;33m.\u001b[0m\u001b[0mhypos\u001b[0m\u001b[1;33m\u001b[0m\u001b[0m\n\u001b[0m",
        "\u001b[1;31mAttributeError\u001b[0m: 'Dice' object has no attribute 'hypos'"
       ]
      }
     ],
     "prompt_number": 22
    },
    {
     "cell_type": "code",
     "collapsed": false,
     "input": [],
     "language": "python",
     "metadata": {},
     "outputs": []
    }
   ],
   "metadata": {}
  }
 ]
}
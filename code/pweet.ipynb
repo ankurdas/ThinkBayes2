{
 "metadata": {
  "name": "",
  "signature": "sha256:c96a8f1fa833a49fbd4bff0397fa5687216c7415af142dc51773094df36064db"
 },
 "nbformat": 3,
 "nbformat_minor": 0,
 "worksheets": [
  {
   "cells": [
    {
     "cell_type": "code",
     "collapsed": false,
     "input": [
      "\"\"\"This file contains code for use with \"Think Bayes\",\n",
      "by Allen B. Downey, available from greenteapress.com\n",
      "\n",
      "Copyright 2014 Allen B. Downey\n",
      "License: GNU GPLv3 http://www.gnu.org/licenses/gpl.html\n",
      "\"\"\"\n",
      "\n",
      "from __future__ import print_function, division\n",
      "\n",
      "import thinkbayes2\n",
      "\n",
      "\n",
      "class Cookie(thinkbayes2.Suite):\n",
      "    \"\"\"A map from string bowl ID to probablity.\"\"\"\n",
      "\n",
      "    def Likelihood(self, data, hypo):\n",
      "        \"\"\"The likelihood of the data under the hypothesis.\n",
      "\n",
      "        data: string cookie type\n",
      "        hypo: string bowl ID\n",
      "        \"\"\"\n",
      "        like = hypo[data] / hypo.Total()\n",
      "        if like:\n",
      "            hypo[data] -= 1\n",
      "        return like\n",
      "\n",
      "\n",
      "def main():\n",
      "    bowl1 = thinkbayes2.Hist(dict(vanilla=30, chocolate=10))\n",
      "    bowl2 = thinkbayes2.Hist(dict(vanilla=20, chocolate=20))\n",
      "    pmf = Cookie([bowl1, bowl2])\n",
      "\n",
      "    print('After 11 vanilla')\n",
      "    pmf.Update('chocolate')\n",
      "    for hypo, prob in pmf.Items():\n",
      "        print(hypo, prob)\n",
      "\n",
      "\n",
      "if __name__ == '__main__':\n",
      "    main()"
     ],
     "language": "python",
     "metadata": {},
     "outputs": [
      {
       "output_type": "stream",
       "stream": "stdout",
       "text": [
        "After 11 vanilla\n",
        "Hist({'vanilla': 30, 'chocolate': 9}) 0.333333333333\n",
        "Hist({'vanilla': 20, 'chocolate': 19}) 0.666666666667\n"
       ]
      }
     ],
     "prompt_number": 4
    },
    {
     "cell_type": "raw",
     "metadata": {},
     "source": []
    }
   ],
   "metadata": {}
  }
 ]
}
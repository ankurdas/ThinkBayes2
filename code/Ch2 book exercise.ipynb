{
 "metadata": {
  "name": "",
  "signature": "sha256:3642ae0875daf6f9276ff08113d21efe8fc816165a6f99dbd68c446b9a81d3b9"
 },
 "nbformat": 3,
 "nbformat_minor": 0,
 "worksheets": [
  {
   "cells": [
    {
     "cell_type": "code",
     "collapsed": false,
     "input": [
      "from thinkstats2 import Suite\n",
      "\n",
      "\n",
      "class Cookie(Suite):\n",
      "    \"\"\"A map from string bowl ID to probablity.\"\"\"\n",
      "    \n",
      "    \n",
      "    van1 = 30.0\n",
      "    van2 = 20\n",
      "    cho1 = 10\n",
      "    cho2 = 20.0\n",
      "    \n",
      "\n",
      "    def Likelihood(self, data, hypo):\n",
      "        \"\"\"The likelihood of the data under the hypothesis.\n",
      "\n",
      "        data: string cookie type\n",
      "        hypo: string bowl ID\n",
      "        \"\"\"\n",
      "        mixes = {\n",
      "        'Bowl 1':dict(vanilla=self.van1/(self.van1+self.cho1), \n",
      "                      chocolate=self.cho1/(self.van1+self.cho1)),\n",
      "        'Bowl 2':dict(vanilla=self.van2/(self.van2+self.cho2), \n",
      "                      chocolate=self.cho2/(self.van2+self.cho2)),\n",
      "        }\n",
      "        \n",
      "        mix = mixes[hypo]\n",
      "        like = mix[data]\n",
      "        return like\n",
      "\n",
      "\n",
      "def main():\n",
      "    hypos = ['Bowl 1', 'Bowl 2']\n",
      "\n",
      "    pmf = Cookie(hypos)\n",
      "\n",
      "    pmf.Update('vanilla')\n",
      "\n",
      "    for hypo, prob in pmf.Items():\n",
      "        print(hypo, prob)\n",
      "\n",
      "\n",
      "if __name__ == '__main__':\n",
      "    main()\n"
     ],
     "language": "python",
     "metadata": {},
     "outputs": [
      {
       "output_type": "stream",
       "stream": "stdout",
       "text": [
        "40.0\n",
        "('Bowl 2', 0.4)\n",
        "('Bowl 1', 0.6000000000000001)\n"
       ]
      }
     ],
     "prompt_number": 12
    },
    {
     "cell_type": "code",
     "collapsed": false,
     "input": [],
     "language": "python",
     "metadata": {},
     "outputs": []
    }
   ],
   "metadata": {}
  }
 ]
}
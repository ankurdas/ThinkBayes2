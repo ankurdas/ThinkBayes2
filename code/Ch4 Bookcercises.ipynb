{
 "metadata": {
  "name": "",
  "signature": "sha256:eb98c84dd65a50d0f1a97c9cfa02f007b22d12e980a02a17bb407aa256317ad5"
 },
 "nbformat": 3,
 "nbformat_minor": 0,
 "worksheets": [
  {
   "cells": [
    {
     "cell_type": "code",
     "collapsed": false,
     "input": [
      "from thinkbayes2 import Pmf\n",
      "import thinkplot"
     ],
     "language": "python",
     "metadata": {},
     "outputs": [],
     "prompt_number": 2
    },
    {
     "cell_type": "code",
     "collapsed": false,
     "input": [
      "d6 = Pmf(range(1,7))\n",
      "two = d6+Pmf(range(1,7))\n",
      "three = two+Pmf(range(1,7))\n",
      "\n",
      "threediceCdf = three.MakeCdf()\n",
      "\n",
      "thinkplot.Cdf(threediceCdf)\n",
      "\n",
      "threedicePmf = threediceCdf.MakePmf()\n",
      "\n",
      "thinkplot.Pdf(threedicePmf)"
     ],
     "language": "python",
     "metadata": {},
     "outputs": [
      {
       "metadata": {},
       "output_type": "display_data",
       "png": "[encoded data removed]",
       "text": [
        "<matplotlib.figure.Figure at 0xad6c554c>"
       ]
      }
     ],
     "prompt_number": 6
    },
    {
     "cell_type": "code",
     "collapsed": false,
     "input": [
      "threediceCdf.Max(6)"
     ],
     "language": "python",
     "metadata": {},
     "outputs": [
      {
       "metadata": {},
       "output_type": "pyout",
       "prompt_number": 8,
       "text": [
        "Cdf([ 3  4  5  6  7  8  9 10 11 12 13 14 15 16 17 18], [  9.84640042e-15   4.03308561e-11   9.84640042e-09   6.30169627e-07\n",
        "   1.81002994e-05   3.03672633e-04   2.78091431e-03   1.56250000e-02\n",
        "   5.96046448e-02   1.65195187e-01   3.46217441e-01   5.58230963e-01\n",
        "   7.52455490e-01   8.93907660e-01   9.72541747e-01   1.00000000e+00])"
       ]
      }
     ],
     "prompt_number": 8
    },
    {
     "cell_type": "code",
     "collapsed": false,
     "input": [
      "thinkplot.Cdf(threedicePmf.Max(1))\n",
      "thinkplot.Cdf(threedicePmf.Max(2))\n",
      "thinkplot.Cdf(threedicePmf.Max(3))\n",
      "thinkplot.Cdf(threedicePmf.Max(4))\n",
      "thinkplot.Cdf(threedicePmf.Max(5))\n",
      "thinkplot.Cdf(threedicePmf.Max(6))"
     ],
     "language": "python",
     "metadata": {},
     "outputs": [
      {
       "output_type": "stream",
       "stream": "stdout",
       "text": [
        "Warning: Brewer ran out of colors.\n"
       ]
      },
      {
       "metadata": {},
       "output_type": "pyout",
       "prompt_number": 16,
       "text": [
        "{'xscale': 'linear', 'yscale': 'linear'}"
       ]
      },
      {
       "metadata": {},
       "output_type": "display_data",
       "png": "[encoded data removed]",
       "text": [
        "<matplotlib.figure.Figure at 0xad7baeec>"
       ]
      }
     ],
     "prompt_number": 16
    },
    {
     "cell_type": "code",
     "collapsed": false,
     "input": [
      "goose = threedicePmf.Max(6).MakePmf()\n",
      "thinkplot.Cdf(goose)"
     ],
     "language": "python",
     "metadata": {},
     "outputs": [
      {
       "metadata": {},
       "output_type": "pyout",
       "prompt_number": 21,
       "text": [
        "{'xscale': 'linear', 'yscale': 'linear'}"
       ]
      },
      {
       "metadata": {},
       "output_type": "display_data",
       "png": "[encoded data removed]",
       "text": [
        "<matplotlib.figure.Figure at 0xad769f2c>"
       ]
      }
     ],
     "prompt_number": 21
    },
    {
     "cell_type": "code",
     "collapsed": false,
     "input": [
      "goose.Percentile(5,95)"
     ],
     "language": "python",
     "metadata": {},
     "outputs": [
      {
       "ename": "TypeError",
       "evalue": "Percentile() takes exactly 2 arguments (3 given)",
       "output_type": "pyerr",
       "traceback": [
        "\u001b[1;31m---------------------------------------------------------------------------\u001b[0m\n\u001b[1;31mTypeError\u001b[0m                                 Traceback (most recent call last)",
        "\u001b[1;32m<ipython-input-22-2f0a53f10a0b>\u001b[0m in \u001b[0;36m<module>\u001b[1;34m()\u001b[0m\n\u001b[1;32m----> 1\u001b[1;33m \u001b[0mgoose\u001b[0m\u001b[1;33m.\u001b[0m\u001b[0mPercentile\u001b[0m\u001b[1;33m(\u001b[0m\u001b[1;36m5\u001b[0m\u001b[1;33m,\u001b[0m\u001b[1;36m95\u001b[0m\u001b[1;33m)\u001b[0m\u001b[1;33m\u001b[0m\u001b[0m\n\u001b[0m",
        "\u001b[1;31mTypeError\u001b[0m: Percentile() takes exactly 2 arguments (3 given)"
       ]
      }
     ],
     "prompt_number": 22
    },
    {
     "cell_type": "code",
     "collapsed": false,
     "input": [],
     "language": "python",
     "metadata": {},
     "outputs": []
    }
   ],
   "metadata": {}
  }
 ]
}
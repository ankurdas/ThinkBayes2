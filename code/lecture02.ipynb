{
 "metadata": {
  "name": "",
  "signature": "sha256:dc094dc45b1c8f9f5a411e3c3eeec3036f4ab189e0b30d372ac9b09e80c27567"
 },
 "nbformat": 3,
 "nbformat_minor": 0,
 "worksheets": [
  {
   "cells": [
    {
     "cell_type": "code",
     "collapsed": false,
     "input": [
      "from thinkbayes2 import Pmf\n",
      "import thinkplot"
     ],
     "language": "python",
     "metadata": {},
     "outputs": [],
     "prompt_number": 3
    },
    {
     "cell_type": "code",
     "collapsed": false,
     "input": [
      "def PmfProbSumGreater(pmf1, pmf2, pmf3):\n",
      "    pmf=pmf1+pmf2\n",
      "    \n",
      "    pmffinal = pmf-pmf3\n",
      "    \n",
      "    hi = pmffinal.ProbGreater(0)\n",
      "    \n",
      "    return hi\n",
      "\n",
      "\n",
      "d6 = Pmf(range(1,7))\n",
      "two = d6+d6\n",
      "three = two+d6\n",
      "four = three+d6\n",
      "five = four+d6\n",
      "\n",
      "print(PmfProbSumGreater(d6,d6,two))\n",
      "\n",
      "thinkplot.Pdfs((d6,two,three,four,five))\n"
     ],
     "language": "python",
     "metadata": {},
     "outputs": [
      {
       "output_type": "stream",
       "stream": "stdout",
       "text": [
        "0.443672839506\n",
        "Warning: Brewer ran out of colors.\n"
       ]
      },
      {
       "metadata": {},
       "output_type": "display_data",
       "png": "[encoded data removed]",
       "text": [
        "<matplotlib.figure.Figure at 0xb18e4a4c>"
       ]
      }
     ],
     "prompt_number": 87
    },
    {
     "cell_type": "code",
     "collapsed": false,
     "input": [
      "def PmfProbSumGreater(pmf1, pmf2, pmf3)\n",
      "    pmf=pmf1+pmf2\n",
      "    \n",
      "    pmffinal = pmf3-pmf\n",
      "    \n",
      "    pmffinal.ProbGreater(0)\n",
      "    \n",
      "    return pmf"
     ],
     "language": "python",
     "metadata": {},
     "outputs": [
      {
       "ename": "SyntaxError",
       "evalue": "invalid syntax (<ipython-input-74-e64f5d096c27>, line 1)",
       "output_type": "pyerr",
       "traceback": [
        "\u001b[1;36m  File \u001b[1;32m\"<ipython-input-74-e64f5d096c27>\"\u001b[1;36m, line \u001b[1;32m1\u001b[0m\n\u001b[1;33m    def PmfProbSumGreater(pmf1, pmf2, pmf3)\u001b[0m\n\u001b[1;37m                                           ^\u001b[0m\n\u001b[1;31mSyntaxError\u001b[0m\u001b[1;31m:\u001b[0m invalid syntax\n"
       ]
      }
     ],
     "prompt_number": 74
    },
    {
     "cell_type": "code",
     "collapsed": false,
     "input": [
      "print(three.Mean())\n",
      "print(three.Var())\n",
      "print(three.Var()**.5)"
     ],
     "language": "python",
     "metadata": {},
     "outputs": [
      {
       "output_type": "stream",
       "stream": "stdout",
       "text": [
        "10.5\n",
        "8.75\n",
        "2.95803989155\n"
       ]
      }
     ],
     "prompt_number": 46
    },
    {
     "cell_type": "code",
     "collapsed": false,
     "input": [
      "print(three.ProbGreater(15))"
     ],
     "language": "python",
     "metadata": {},
     "outputs": [
      {
       "output_type": "stream",
       "stream": "stdout",
       "text": [
        "0.0462962962963\n"
       ]
      }
     ],
     "prompt_number": 50
    },
    {
     "cell_type": "code",
     "collapsed": false,
     "input": [
      "print(three.Random())"
     ],
     "language": "python",
     "metadata": {},
     "outputs": [
      {
       "output_type": "stream",
       "stream": "stdout",
       "text": [
        "11\n"
       ]
      }
     ],
     "prompt_number": 59
    },
    {
     "cell_type": "code",
     "collapsed": false,
     "input": [
      "dice = Pmf(range(1,7))+Pmf(range(1,7))+Pmf(range(1,7))\n",
      "\n",
      "yolo = Pmf(dice.Probs(range(9,18)))\n",
      "\n",
      "\n",
      "\n"
     ],
     "language": "python",
     "metadata": {},
     "outputs": [],
     "prompt_number": 70
    },
    {
     "cell_type": "code",
     "collapsed": false,
     "input": [
      "print(yolo)"
     ],
     "language": "python",
     "metadata": {},
     "outputs": [
      {
       "output_type": "stream",
       "stream": "stdout",
       "text": [
        "Pmf({0.125: 0.2222222222222222, 0.11574074074074073: 0.1111111111111111, 0.09722222222222224: 0.1111111111111111, 0.06944444444444445: 0.1111111111111111, 0.027777777777777776: 0.1111111111111111, 0.046296296296296294: 0.1111111111111111, 0.013888888888888888: 0.1111111111111111, 0.11574074074074074: 0.1111111111111111})\n"
       ]
      }
     ],
     "prompt_number": 71
    },
    {
     "cell_type": "code",
     "collapsed": false,
     "input": [],
     "language": "python",
     "metadata": {},
     "outputs": []
    }
   ],
   "metadata": {}
  }
 ]
}